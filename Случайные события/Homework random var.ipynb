{
 "cells": [
  {
   "cell_type": "code",
   "execution_count": 108,
   "metadata": {},
   "outputs": [],
   "source": [
    "import numpy as np"
   ]
  },
  {
   "cell_type": "code",
   "execution_count": 110,
   "metadata": {},
   "outputs": [
    {
     "name": "stdout",
     "output_type": "stream",
     "text": [
      " Вложил денег: 10000000 руб., а проиграл 1957943 руб.\n",
      " Теоретическая вероятность: 0.225 \n",
      " Вероятность из моделирования: 0.2040992\n",
      " В среднем игрок теряет: 19.6 %\n"
     ]
    }
   ],
   "source": [
    "np.random.seed(None)\n",
    "trials = 10000000    # Количество попыток\n",
    "successes = 0        # Количество успехов\n",
    "win = 0              # Количество выигранной суммы \n",
    "\n",
    "for i in range(trials):\n",
    "    random_score = np.random.randint(0, 1000)  \n",
    "    if random_score == 777:\n",
    "        successes += 1\n",
    "        win += 200\n",
    "        \n",
    "    elif random_score == 999:\n",
    "        successes += 1\n",
    "        win += 100\n",
    "        \n",
    "    elif random_score == 555:\n",
    "        successes += 1\n",
    "        win += 50\n",
    "            \n",
    "    elif random_score == 333:\n",
    "        successes += 1\n",
    "        win += 15\n",
    "            \n",
    "    elif random_score == 111:\n",
    "        successes += 1\n",
    "        win += 10\n",
    "            \n",
    "    elif random_score % 100 == 77:\n",
    "        successes += 1\n",
    "        win += 5\n",
    "            \n",
    "    elif random_score % 10 == 7:\n",
    "        successes += 1\n",
    "        win += 3\n",
    "            \n",
    "    elif random_score % 100 == 0:\n",
    "        successes += 1\n",
    "        win += 2\n",
    "            \n",
    "    elif random_score % 10 == 0:\n",
    "        successes += 1\n",
    "        win += 1   \n",
    "            \n",
    "p_monte_carlo = successes / trials # Вероятность из моделирования\n",
    "p = 225 / 1000                     # Теоретическая вероятность\n",
    "\n",
    "\n",
    "print(f' Вложил денег: {trials} руб., а проиграл {trials - win} руб.') \n",
    "print(f' Теоретическая вероятность: {p} ') \n",
    "print(f' Вероятность из моделирования: {p_monte_carlo}') \n",
    "print(f' В среднем игрок теряет: {round(100 - ((100 /trials) * win),1)} %')"
   ]
  }
 ],
 "metadata": {
  "kernelspec": {
   "display_name": "Python 3",
   "language": "python",
   "name": "python3"
  },
  "language_info": {
   "codemirror_mode": {
    "name": "ipython",
    "version": 3
   },
   "file_extension": ".py",
   "mimetype": "text/x-python",
   "name": "python",
   "nbconvert_exporter": "python",
   "pygments_lexer": "ipython3",
   "version": "3.8.5"
  }
 },
 "nbformat": 4,
 "nbformat_minor": 4
}
