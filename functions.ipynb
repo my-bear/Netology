{
 "cells": [
  {
   "cell_type": "code",
   "execution_count": 1,
   "metadata": {},
   "outputs": [],
   "source": [
    "documents = [\n",
    "{'type': 'passport', 'number': '2207 876234', 'name': 'Василий Гупкин'},\n",
    "{'type': 'invoice', 'number': '11-2', 'name': 'Геннадий Покемонов'},\n",
    "{'type': 'insurance', 'number': '10006', 'name': 'Аристарх Павлов'}]\n",
    "\n",
    "\n",
    "directories = {\n",
    "'1': ['2207 876234', '11-2'],\n",
    "'2': ['10006'],\n",
    "'3': []}"
   ]
  },
  {
   "cell_type": "code",
   "execution_count": 8,
   "metadata": {},
   "outputs": [
    {
     "name": "stdout",
     "output_type": "stream",
     "text": [
      "1\n",
      "На полке есть документ, удалите их перед удалением полки. \n",
      "Текущий перечень полок: 1, 2, 3 \n"
     ]
    }
   ],
   "source": [
    "def del_num_directories():\n",
    "    key = str(input(''))\n",
    "\n",
    "    if key in directories:\n",
    "        value = directories[key]\n",
    "        if len(value) > 0:\n",
    "            print('На полке есть документ, удалите их перед удалением полки. ')\n",
    "\n",
    "        else:\n",
    "            del(directories[key])\n",
    "            print('Полка удалена. ')\n",
    "\n",
    "        num_directories = ', '.join(list(directories))\n",
    "        print(f'Текущий перечень полок: {num_directories} ')\n",
    "del_num_directories()"
   ]
  },
  {
   "cell_type": "code",
   "execution_count": 9,
   "metadata": {},
   "outputs": [
    {
     "name": "stdout",
     "output_type": "stream",
     "text": [
      "1\n",
      "Такой номер полки уже существует! \n",
      "Текущий перечень полок: 1, 2, 3 \n"
     ]
    }
   ],
   "source": [
    "def add_num_directories():\n",
    "    \n",
    "    '''\n",
    "    Функция добавляет новую полку если такой еще нет.\n",
    "    '''\n",
    "    \n",
    "    key = str(input(''))\n",
    "\n",
    "    if key in directories:\n",
    "\n",
    "        print('Такой номер полки уже существует! ')\n",
    "    else:\n",
    "        print('Вы добавили новую полку! ')\n",
    "        directories[key] = []\n",
    "\n",
    "    num_directories = ', '.join(list(directories))\n",
    "    print(f'Текущий перечень полок: {num_directories} ')\n",
    "    \n",
    "add_num_directories()"
   ]
  },
  {
   "cell_type": "code",
   "execution_count": 5,
   "metadata": {},
   "outputs": [
    {
     "name": "stdout",
     "output_type": "stream",
     "text": [
      "Введите номер документа: 10006\n",
      "Владелец документа: Аристарх Павлов \n"
     ]
    }
   ],
   "source": [
    "def find_name():\n",
    "    ''' \n",
    "    По номеру мы ищем имя \n",
    "    '''   \n",
    "    passport_id = str(input('Введите номер документа: '))\n",
    "    \n",
    "    name = \"\"\n",
    "    \n",
    "    for document in documents:\n",
    "        number = document['number']\n",
    "                \n",
    "        if number == passport_id:\n",
    "            name = document['name']              \n",
    "            \n",
    "    if len(name) > 0:\n",
    "        print(f'Владелец документа: {name} ')\n",
    "    else: \n",
    "         print(f'Документ не найден в базе')\n",
    "\n",
    "find_name()"
   ]
  },
  {
   "cell_type": "code",
   "execution_count": 6,
   "metadata": {},
   "outputs": [
    {
     "name": "stdout",
     "output_type": "stream",
     "text": [
      "Введите номер документа: 10006\n",
      "Документ хранится на полке : 2 \n"
     ]
    }
   ],
   "source": [
    "def find_num_directories():\n",
    "    ''' \n",
    "    По номеру мы ищем полку \n",
    "    '''\n",
    "    passport_id = str(input('Введите номер документа: '))\n",
    "   \n",
    "    num_directories = \"\"\n",
    "    \n",
    "    for key, values in directories.items():\n",
    "        for value in values:\n",
    "            \n",
    "            if value == passport_id:\n",
    "                num_directories = key\n",
    "                \n",
    "    if len(num_directories) > 0:\n",
    "        print(f'Документ хранится на полке : {num_directories} ')\n",
    "    else: \n",
    "        print(f'Документ не найден в базе')   \n",
    "            \n",
    "find_num_directories()            "
   ]
  },
  {
   "cell_type": "code",
   "execution_count": 7,
   "metadata": {},
   "outputs": [
    {
     "name": "stdout",
     "output_type": "stream",
     "text": [
      "№ 2207 876234, тип: passport, владелец: Василий Гупкин, полка хранения: 1\n",
      "№ 11-2, тип: invoice, владелец: Геннадий Покемонов, полка хранения: 1\n",
      "№ 10006, тип: insurance, владелец: Аристарх Павлов, полка хранения: 2\n"
     ]
    }
   ],
   "source": [
    "def full_information():\n",
    "    for document in documents:\n",
    "        number = document['number']\n",
    "        name = document['name']\n",
    "        types = document['type'] \n",
    "        \n",
    "        for key, values in directories.items():\n",
    "            for value in values:\n",
    "                if value == number:\n",
    "           \n",
    "                    print(f'№ {number}, тип: {types}, владелец: {name}, полка хранения: {key}')\n",
    "        \n",
    "full_information()"
   ]
  },
  {
   "cell_type": "code",
   "execution_count": 11,
   "metadata": {},
   "outputs": [
    {
     "name": "stdout",
     "output_type": "stream",
     "text": [
      "Введите комманду: as\n",
      "4\n",
      "Вы добавили новую полку! \n",
      "Текущий перечень полок: 1, 2, 3, 4 \n",
      "Введите комманду: ds\n",
      "4\n",
      "Полка удалена. \n",
      "Текущий перечень полок: 1, 2, 3 \n",
      "Введите комманду: p\n",
      "Введите номер документа: 10006\n",
      "Владелец документа: Аристарх Павлов \n",
      "Введите комманду: s\n",
      "Введите номер документа: 10006\n",
      "Документ хранится на полке : 2 \n",
      "Введите комманду: l\n",
      "№ 2207 876234, тип: passport, владелец: Василий Гупкин, полка хранения: 1\n",
      "№ 11-2, тип: invoice, владелец: Геннадий Покемонов, полка хранения: 1\n",
      "№ 10006, тип: insurance, владелец: Аристарх Павлов, полка хранения: 2\n",
      "Введите комманду: q\n"
     ]
    }
   ],
   "source": [
    " while True:\n",
    "    commanded = str(input('Введите комманду: '))\n",
    "    if commanded == 'p':    \n",
    "        find_name()\n",
    "    elif commanded == 's':   \n",
    "        find_num_directories()\n",
    "    elif commanded == 'l':\n",
    "        full_information()\n",
    "    elif commanded == 'as':\n",
    "        add_num_directories() \n",
    "    elif commanded == 'ds':\n",
    "        del_num_directories()    \n",
    "    elif commanded == 'q':\n",
    "        break\n",
    "    else:    \n",
    "        print(f'Введена неверная команда! ')"
   ]
  },
  {
   "cell_type": "code",
   "execution_count": null,
   "metadata": {},
   "outputs": [],
   "source": []
  },
  {
   "cell_type": "code",
   "execution_count": null,
   "metadata": {},
   "outputs": [],
   "source": []
  }
 ],
 "metadata": {
  "kernelspec": {
   "display_name": "Python 3",
   "language": "python",
   "name": "python3"
  },
  "language_info": {
   "codemirror_mode": {
    "name": "ipython",
    "version": 3
   },
   "file_extension": ".py",
   "mimetype": "text/x-python",
   "name": "python",
   "nbconvert_exporter": "python",
   "pygments_lexer": "ipython3",
   "version": "3.8.5"
  }
 },
 "nbformat": 4,
 "nbformat_minor": 4
}
