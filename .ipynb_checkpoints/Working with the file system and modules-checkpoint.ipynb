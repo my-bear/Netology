{
 "cells": [
  {
   "cell_type": "markdown",
   "metadata": {},
   "source": [
    "### Задание 1"
   ]
  },
  {
   "cell_type": "code",
   "execution_count": 50,
   "metadata": {},
   "outputs": [],
   "source": [
    "import json\n",
    "from pprint import pprint"
   ]
  },
  {
   "cell_type": "code",
   "execution_count": 65,
   "metadata": {},
   "outputs": [],
   "source": [
    "f = open('/Users/mac/Desktop/Netology/Pychon/Примеры/Работа с файловой системой/purchase_log.txt', 'r')\n",
    "\n",
    "res = {}\n",
    "\n",
    "for line in f:\n",
    "    \n",
    "    purchase_log_dict = json.loads(line)  \n",
    "    \n",
    "    \n",
    "    user_id = purchase_log_dict['user_id'] \n",
    "    category = purchase_log_dict['category']\n",
    "        \n",
    "    res[user_id] = category\n",
    "        \n",
    "#pprint(res)"
   ]
  },
  {
   "cell_type": "markdown",
   "metadata": {},
   "source": [
    "### Задание 2"
   ]
  },
  {
   "cell_type": "code",
   "execution_count": 97,
   "metadata": {},
   "outputs": [],
   "source": [
    "with open('/Users/mac/Desktop/Netology/Pychon/Примеры/Работа с файловой системой/visit_log.csv', 'r') as f:\n",
    "    with open('funnel.csv', 'w') as f_write:\n",
    "        \n",
    "        #funell_dict = {}   \n",
    "\n",
    "        for line in f: \n",
    "\n",
    "            line = line.strip().split(',')   \n",
    "\n",
    "            if line[0] in res:\n",
    "\n",
    "                line.append(res.get(line[0]))\n",
    "                \n",
    "                funnel = ','.join(line) \n",
    "        \n",
    "                f_write.write(funnel)"
   ]
  },
  {
   "cell_type": "code",
   "execution_count": null,
   "metadata": {},
   "outputs": [],
   "source": []
  },
  {
   "cell_type": "code",
   "execution_count": null,
   "metadata": {},
   "outputs": [],
   "source": []
  },
  {
   "cell_type": "code",
   "execution_count": null,
   "metadata": {},
   "outputs": [],
   "source": []
  }
 ],
 "metadata": {
  "kernelspec": {
   "display_name": "Python 3",
   "language": "python",
   "name": "python3"
  },
  "language_info": {
   "codemirror_mode": {
    "name": "ipython",
    "version": 3
   },
   "file_extension": ".py",
   "mimetype": "text/x-python",
   "name": "python",
   "nbconvert_exporter": "python",
   "pygments_lexer": "ipython3",
   "version": "3.8.5"
  }
 },
 "nbformat": 4,
 "nbformat_minor": 4
}
