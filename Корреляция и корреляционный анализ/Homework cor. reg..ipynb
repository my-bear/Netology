{
 "cells": [
  {
   "cell_type": "code",
   "execution_count": 1,
   "metadata": {},
   "outputs": [],
   "source": [
    "import numpy as np\n",
    "import pandas as pd\n",
    "from sklearn.linear_model import LinearRegression\n",
    "from sklearn.model_selection import train_test_split\n",
    "from sklearn.metrics import mean_absolute_error\n",
    "import statsmodels.api as sm\n",
    "import matplotlib.pyplot as plt"
   ]
  },
  {
   "cell_type": "code",
   "execution_count": 2,
   "metadata": {},
   "outputs": [
    {
     "data": {
      "text/html": [
       "<div>\n",
       "<style scoped>\n",
       "    .dataframe tbody tr th:only-of-type {\n",
       "        vertical-align: middle;\n",
       "    }\n",
       "\n",
       "    .dataframe tbody tr th {\n",
       "        vertical-align: top;\n",
       "    }\n",
       "\n",
       "    .dataframe thead th {\n",
       "        text-align: right;\n",
       "    }\n",
       "</style>\n",
       "<table border=\"1\" class=\"dataframe\">\n",
       "  <thead>\n",
       "    <tr style=\"text-align: right;\">\n",
       "      <th></th>\n",
       "      <th>Unnamed: 0</th>\n",
       "      <th>location</th>\n",
       "      <th>town</th>\n",
       "      <th>mortality</th>\n",
       "      <th>hardness</th>\n",
       "    </tr>\n",
       "  </thead>\n",
       "  <tbody>\n",
       "    <tr>\n",
       "      <th>0</th>\n",
       "      <td>1</td>\n",
       "      <td>South</td>\n",
       "      <td>Bath</td>\n",
       "      <td>1247</td>\n",
       "      <td>105</td>\n",
       "    </tr>\n",
       "    <tr>\n",
       "      <th>1</th>\n",
       "      <td>2</td>\n",
       "      <td>North</td>\n",
       "      <td>Birkenhead</td>\n",
       "      <td>1668</td>\n",
       "      <td>17</td>\n",
       "    </tr>\n",
       "    <tr>\n",
       "      <th>2</th>\n",
       "      <td>3</td>\n",
       "      <td>South</td>\n",
       "      <td>Birmingham</td>\n",
       "      <td>1466</td>\n",
       "      <td>5</td>\n",
       "    </tr>\n",
       "    <tr>\n",
       "      <th>3</th>\n",
       "      <td>4</td>\n",
       "      <td>North</td>\n",
       "      <td>Blackburn</td>\n",
       "      <td>1800</td>\n",
       "      <td>14</td>\n",
       "    </tr>\n",
       "    <tr>\n",
       "      <th>4</th>\n",
       "      <td>5</td>\n",
       "      <td>North</td>\n",
       "      <td>Blackpool</td>\n",
       "      <td>1609</td>\n",
       "      <td>18</td>\n",
       "    </tr>\n",
       "  </tbody>\n",
       "</table>\n",
       "</div>"
      ],
      "text/plain": [
       "   Unnamed: 0 location        town  mortality  hardness\n",
       "0           1    South        Bath       1247       105\n",
       "1           2    North  Birkenhead       1668        17\n",
       "2           3    South  Birmingham       1466         5\n",
       "3           4    North   Blackburn       1800        14\n",
       "4           5    North   Blackpool       1609        18"
      ]
     },
     "execution_count": 2,
     "metadata": {},
     "output_type": "execute_result"
    }
   ],
   "source": [
    "df = pd.read_csv('water.csv')\n",
    "df.head()"
   ]
  },
  {
   "cell_type": "code",
   "execution_count": 3,
   "metadata": {},
   "outputs": [],
   "source": [
    "South = df.loc[df.location == 'South']\n",
    "North = df.loc[df.location == 'North']"
   ]
  },
  {
   "cell_type": "code",
   "execution_count": 4,
   "metadata": {},
   "outputs": [
    {
     "data": {
      "text/plain": [
       "<AxesSubplot:xlabel='mortality', ylabel='hardness'>"
      ]
     },
     "execution_count": 4,
     "metadata": {},
     "output_type": "execute_result"
    },
    {
     "data": {
      "image/png": "[encoded data removed]",
      "text/plain": [
       "<Figure size 432x288 with 1 Axes>"
      ]
     },
     "metadata": {
      "needs_background": "light"
     },
     "output_type": "display_data"
    }
   ],
   "source": [
    "# Строим график изменения жесткости воды от смертности\n",
    "df.plot(kind='scatter', x='mortality', y='hardness')"
   ]
  },
  {
   "cell_type": "code",
   "execution_count": 5,
   "metadata": {},
   "outputs": [],
   "source": [
    "def coef(data):\n",
    "    \n",
    "    \"\"\"\n",
    "    Функция возвращает коэффициенты Пирсона, Спирмена, Канделла\n",
    "    \n",
    "    \"\"\"\n",
    "\n",
    "    # Коэффициент корреляции Пирсона\n",
    "\n",
    "    Pirson = data[['mortality', 'hardness']].corr().hardness[0]\n",
    "    print(f'Коэффициент корреляции Пирсона: {round(Pirson,3)}')\n",
    "\n",
    "    # Коэффициент корреляции Спирмена\n",
    "\n",
    "    Spearman = data[['mortality', 'hardness']].corr(method='spearman').hardness[0]\n",
    "    print(f'Коэффициент корреляции Спирмена: {round(Spearman,3)}')\n",
    "    \n",
    "    # Коэффициент корреляции Канделла\n",
    "    Kendall = data[['mortality', 'hardness']].corr(method='kendall').hardness[0]\n",
    "    print(f'Коэффициент корреляции Канделла: {round(Kendall,3)}')"
   ]
  },
  {
   "cell_type": "code",
   "execution_count": 6,
   "metadata": {},
   "outputs": [
    {
     "name": "stdout",
     "output_type": "stream",
     "text": [
      "Коэффициент корреляции Пирсона: -0.655\n",
      "Коэффициент корреляции Спирмена: -0.632\n",
      "Коэффициент корреляции Канделла: -0.454\n"
     ]
    }
   ],
   "source": [
    "coef(df)"
   ]
  },
  {
   "cell_type": "markdown",
   "metadata": {},
   "source": [
    "Коэффициент корреляции имеет отрицательно значение.\n",
    "\n",
    "Наблюдаем обратную связь двух величин. Связь слобовыражена.\n",
    "\n",
    "С уменьшением жесткости воды смертность растет."
   ]
  },
  {
   "cell_type": "code",
   "execution_count": 17,
   "metadata": {},
   "outputs": [],
   "source": [
    "def function(X, Y):\n",
    "    \n",
    "        \"\"\"\n",
    "        Функция считает коэффициент детерминации и выводит график остатков\n",
    "    \n",
    "        \"\"\"\n",
    "        \n",
    "        X_train, X_test, y_train, y_test = train_test_split(X, Y, test_size=0.30, random_state=42)\n",
    "        \n",
    "        # Смотри сколько у нас значений в пренировоцном цикле и в тестовом\n",
    "        \n",
    "        # print(f' Тренировочных значений: {y_train.shape[0]} ')\n",
    "        # print(f' Тестовых значений: {y_test.shape[0]} ')\n",
    "\n",
    "        # Обращаемся к классу LinearRegression() и записываем его в переменную model\n",
    "        model = LinearRegression()\n",
    "        \n",
    "        # Тренируем нашу модель \n",
    "        model.fit(X_train, y_train)\n",
    "        \n",
    "        # Найдем значения а и b для нашей функции y = ax + b\n",
    "\n",
    "        a = model.coef_[0]\n",
    "        b = model.intercept_\n",
    "\n",
    "        print(f'a = {round(a,3)}')\n",
    "        print(f'b = {round(b,2)}')\n",
    "\n",
    "        # На основе тестовых значений смертности прогнозируем наши значения жесткости воды\n",
    "        y_pred = model.predict(X_test)\n",
    "        \n",
    "        # Коэффициент детерминации\n",
    "        R2 = model.score(X_test, y_test)\n",
    "        print(f'Коэффициент детерминации: {round(R2,3)} ')\n",
    "        \n",
    "        # plt.scatter(X_test, y_test)\n",
    "        # plt.plot(X_test, y_pred, c='r')\n",
    "        \n",
    "        # Средняя абсолютная ошибка может быть определена как\n",
    "        print(f'Cредняя абсолютная ошибка: {round(mean_absolute_error( y_pred, y_test), 3)} ')\n",
    "        # или\n",
    "        # np.mean(np.abs(y_pred - y_test))\n",
    "        \n",
    "        # Дисперсия абсолютной ошибки (суммарная ошибка предскаазания для всей выборки)\n",
    "        print(f'Дисперсия абсолютной ошибки: {round(np.var(np.abs(y_test - y_pred.T)), 2)}')      \n",
    "        \n",
    "        # График остатков из библиотеки statsmodels\n",
    "        \n",
    "        X_const = sm.add_constant(X_train)\n",
    "        model = sm.OLS(y_train, X_const)\n",
    "        results = model.fit()\n",
    "        \n",
    "        plt.scatter(X_const.iloc[:, 1], results.resid)\n",
    "        plt.title('Scatter plot Hardness vs. Residuals')\n",
    "        plt.xlabel('Hardness')\n",
    "        plt.ylabel('OLS Model Residuals')"
   ]
  },
  {
   "cell_type": "code",
   "execution_count": 18,
   "metadata": {},
   "outputs": [
    {
     "name": "stdout",
     "output_type": "stream",
     "text": [
      "a = -0.127\n",
      "b = 239.37\n",
      "Коэффициент детерминации: 0.495 \n",
      "Cредняя абсолютная ошибка: 22.447 \n",
      "Дисперсия абсолютной ошибки: 197.07\n"
     ]
    },
    {
     "data": {
      "image/png": "[encoded data removed]",
      "text/plain": [
       "<Figure size 432x288 with 1 Axes>"
      ]
     },
     "metadata": {
      "needs_background": "light"
     },
     "output_type": "display_data"
    }
   ],
   "source": [
    "# Для северных и южных городов\n",
    "function(df[['mortality']], df['hardness'])"
   ]
  },
  {
   "cell_type": "markdown",
   "metadata": {},
   "source": [
    "Распределение остатков имеет хоатичное распределение. Это говорит хорошем построение модели.\n",
    "\n",
    "Коэффициент детерминации: 0.495 имеет небольшое значение. «объясняет» слабую зависимость данных."
   ]
  },
  {
   "cell_type": "markdown",
   "metadata": {},
   "source": [
    "#### Для северных городов"
   ]
  },
  {
   "cell_type": "code",
   "execution_count": 19,
   "metadata": {},
   "outputs": [
    {
     "data": {
      "text/plain": [
       "<AxesSubplot:xlabel='mortality', ylabel='hardness'>"
      ]
     },
     "execution_count": 19,
     "metadata": {},
     "output_type": "execute_result"
    },
    {
     "data": {
      "image/png": "[encoded data removed]",
      "text/plain": [
       "<Figure size 432x288 with 1 Axes>"
      ]
     },
     "metadata": {
      "needs_background": "light"
     },
     "output_type": "display_data"
    }
   ],
   "source": [
    "# Строим график изменения жесткости воды от смертности\n",
    "South.plot(kind='scatter', x='mortality', y='hardness')"
   ]
  },
  {
   "cell_type": "code",
   "execution_count": 20,
   "metadata": {},
   "outputs": [
    {
     "name": "stdout",
     "output_type": "stream",
     "text": [
      "Коэффициент корреляции Пирсона: -0.602\n",
      "Коэффициент корреляции Спирмена: -0.596\n",
      "Коэффициент корреляции Канделла: -0.44\n"
     ]
    }
   ],
   "source": [
    "coef(South)"
   ]
  },
  {
   "cell_type": "code",
   "execution_count": 21,
   "metadata": {},
   "outputs": [
    {
     "name": "stdout",
     "output_type": "stream",
     "text": [
      "a = -0.181\n",
      "b = 324.12\n",
      "Коэффициент детерминации: -0.052 \n",
      "Cредняя абсолютная ошибка: 43.755 \n",
      "Дисперсия абсолютной ошибки: 428.39\n"
     ]
    },
    {
     "data": {
      "image/png": "[encoded data removed]",
      "text/plain": [
       "<Figure size 432x288 with 1 Axes>"
      ]
     },
     "metadata": {
      "needs_background": "light"
     },
     "output_type": "display_data"
    }
   ],
   "source": [
    "function(South[['mortality']], South['hardness'])"
   ]
  },
  {
   "cell_type": "markdown",
   "metadata": {},
   "source": [
    "Коэффициент детерминации = 0 это говорит, что нет никакой связи.\n",
    "\n",
    "Очень высокая суммарная ошибка"
   ]
  },
  {
   "cell_type": "markdown",
   "metadata": {},
   "source": [
    "#### Для южных городов"
   ]
  },
  {
   "cell_type": "code",
   "execution_count": 22,
   "metadata": {},
   "outputs": [
    {
     "data": {
      "text/plain": [
       "<AxesSubplot:xlabel='mortality', ylabel='hardness'>"
      ]
     },
     "execution_count": 22,
     "metadata": {},
     "output_type": "execute_result"
    },
    {
     "data": {
      "image/png": "[encoded data removed]",
      "text/plain": [
       "<Figure size 432x288 with 1 Axes>"
      ]
     },
     "metadata": {
      "needs_background": "light"
     },
     "output_type": "display_data"
    }
   ],
   "source": [
    "# Строим график изменения жесткости воды от смертности\n",
    "North.plot(kind='scatter', x='mortality', y='hardness')"
   ]
  },
  {
   "cell_type": "code",
   "execution_count": 23,
   "metadata": {},
   "outputs": [
    {
     "name": "stdout",
     "output_type": "stream",
     "text": [
      "Коэффициент корреляции Пирсона: -0.369\n",
      "Коэффициент корреляции Спирмена: -0.404\n",
      "Коэффициент корреляции Канделла: -0.283\n"
     ]
    }
   ],
   "source": [
    "coef(North)"
   ]
  },
  {
   "cell_type": "code",
   "execution_count": 24,
   "metadata": {},
   "outputs": [
    {
     "name": "stdout",
     "output_type": "stream",
     "text": [
      "a = -0.098\n",
      "b = 191.73\n",
      "Коэффициент детерминации: -0.349 \n",
      "Cредняя абсолютная ошибка: 19.056 \n",
      "Дисперсия абсолютной ошибки: 171.77\n"
     ]
    },
    {
     "data": {
      "image/png": "[encoded data removed]",
      "text/plain": [
       "<Figure size 432x288 with 1 Axes>"
      ]
     },
     "metadata": {
      "needs_background": "light"
     },
     "output_type": "display_data"
    }
   ],
   "source": [
    "function(North[['mortality']], North['hardness'])"
   ]
  },
  {
   "cell_type": "markdown",
   "metadata": {},
   "source": [
    "Для северных и южных городов аналогичная зависимость сохраняется\n",
    "\n",
    "В южных городах зависимость намного меньше выражена (хотя и модель далеко от идеала)"
   ]
  },
  {
   "cell_type": "code",
   "execution_count": null,
   "metadata": {},
   "outputs": [],
   "source": []
  },
  {
   "cell_type": "code",
   "execution_count": null,
   "metadata": {},
   "outputs": [],
   "source": []
  },
  {
   "cell_type": "code",
   "execution_count": null,
   "metadata": {},
   "outputs": [],
   "source": []
  }
 ],
 "metadata": {
  "kernelspec": {
   "display_name": "Python 3",
   "language": "python",
   "name": "python3"
  },
  "language_info": {
   "codemirror_mode": {
    "name": "ipython",
    "version": 3
   },
   "file_extension": ".py",
   "mimetype": "text/x-python",
   "name": "python",
   "nbconvert_exporter": "python",
   "pygments_lexer": "ipython3",
   "version": "3.8.5"
  }
 },
 "nbformat": 4,
 "nbformat_minor": 4
}
