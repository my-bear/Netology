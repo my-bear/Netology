{
 "cells": [
  {
   "cell_type": "markdown",
   "metadata": {},
   "source": [
    "### Задание 1"
   ]
  },
  {
   "cell_type": "code",
   "execution_count": 82,
   "metadata": {},
   "outputs": [
    {
     "name": "stdout",
     "output_type": "stream",
     "text": [
      "Введите слово: test\n",
      "Ваш результат: es\n"
     ]
    }
   ],
   "source": [
    "word = input('Введите слово: ')\n",
    "syllable = int(len(word) / 2)\n",
    "\n",
    "if len(word) % 2 == 0:\n",
    "    print(f'Ваш результат: {word[syllable-1:syllable+1]}')\n",
    "else:\n",
    "    print(f'Ваш результат: {word[syllable]}')\n"
   ]
  },
  {
   "cell_type": "markdown",
   "metadata": {},
   "source": [
    "### Задание 2"
   ]
  },
  {
   "cell_type": "code",
   "execution_count": 290,
   "metadata": {},
   "outputs": [
    {
     "name": "stdout",
     "output_type": "stream",
     "text": [
      "Введите число: 2\n",
      "Введите число: 3\n",
      "Введите число: 0\n",
      "5.0\n"
     ]
    }
   ],
   "source": [
    "numbers = []\n",
    "\n",
    "while True:\n",
    "    number = float(input('Введите число: '))\n",
    "    if number != 0:\n",
    "        numbers.append(number)\n",
    "        continue\n",
    "    elif number == 0:\n",
    "        print(sum(numbers))\n",
    "        break    "
   ]
  },
  {
   "cell_type": "markdown",
   "metadata": {},
   "source": [
    "### Задание 3"
   ]
  },
  {
   "cell_type": "code",
   "execution_count": 561,
   "metadata": {},
   "outputs": [
    {
     "name": "stdout",
     "output_type": "stream",
     "text": [
      "Идеальные пары: \n",
      " Alex и Emma \n",
      " Arthur и Kate \n",
      " John и Kira \n",
      " Peter и Liza \n",
      " Richard и Trisha \n"
     ]
    }
   ],
   "source": [
    "#boys = ['Peter', 'Alex', 'John', 'Arthur', 'Richard','Michael']\n",
    "boys = ['Peter', 'Alex', 'John', 'Arthur', 'Richard']\n",
    "girls = ['Kate', 'Liza', 'Kira', 'Emma', 'Trisha']\n",
    "\n",
    "if len(boys[0:]) == len(girls[0:]):\n",
    "    print('Идеальные пары: ')\n",
    "    for boy, girl in zip(sorted(boys), sorted(girls)): \n",
    "        print(f' {boy} и {girl} ')\n",
    "else:\n",
    "    print('Внимание, кто-то может остаться без пары!')\n"
   ]
  },
  {
   "cell_type": "markdown",
   "metadata": {},
   "source": [
    "### Задание 4"
   ]
  },
  {
   "cell_type": "code",
   "execution_count": 709,
   "metadata": {},
   "outputs": [
    {
     "name": "stdout",
     "output_type": "stream",
     "text": [
      "Thailand - 23.9 C\n",
      "Germany - 13.8 C\n",
      "Russia - 3.7 C\n",
      "Poland - 12.0 C\n"
     ]
    }
   ],
   "source": [
    "countries_temperature = [\n",
    "['Thailand', [75.2, 77, 78.8, 73.4, 68, 75.2, 77]],\n",
    "['Germany', [57.2, 55.4, 59, 59, 53.6]],\n",
    "['Russia', [35.6, 37.4, 39.2, 41, 42.8, 39.2, 35.6]],\n",
    "['Poland', [50, 50, 53.6, 57.2, 55.4, 55.4]]]\n",
    "\n",
    "for temperature in countries_temperature:\n",
    "    average_temperature = [sum(temperature[1]) / len(temperature[1])]      \n",
    "    \n",
    "    for celsius_temperature in average_temperature:\n",
    "        celsius_temperature = round((celsius_temperature - 32) / 1.8, 1)\n",
    "        \n",
    "    print(f'{temperature[0]} - {celsius_temperature} C')"
   ]
  },
  {
   "cell_type": "markdown",
   "metadata": {},
   "source": [
    "### Заданиее 5"
   ]
  },
  {
   "cell_type": "code",
   "execution_count": 763,
   "metadata": {},
   "outputs": [
    {
     "name": "stdout",
     "output_type": "stream",
     "text": [
      "Среднее количество просмотров на уникального пользователя: 23.25 \n"
     ]
    }
   ],
   "source": [
    "streams = [\n",
    "'2018-01-01,user1,3',\n",
    "'2018-01-07,user1,4',\n",
    "'2018-03-29,user1,1',\n",
    "'2018-04-04,user1,13',\n",
    "'2018-01-05,user2,7',\n",
    "'2018-06-14,user3,4',\n",
    "'2018-07-02,user3,10',\n",
    "'2018-03-21,user4,19',\n",
    "'2018-03-22,user4,4',\n",
    "'2018-04-22,user4,8',\n",
    "'2018-05-03,user4,9',\n",
    "'2018-05-11,user4,11'\n",
    "]\n",
    "\n",
    "users_list = []\n",
    "views_list = []\n",
    "\n",
    "for stream in streams:\n",
    "    splitted_stream = stream.split(',')\n",
    "    user = splitted_stream[1]\n",
    "    views = splitted_stream[2]\n",
    "    if user not in users_list:\n",
    "        users_list.append(user)\n",
    "        views_list.insert(users_list.index(user), [int(views)]) \n",
    "    else:\n",
    "        views_list[users_list.index(user)] += [int(views)]\n",
    "        \n",
    "sum_views_list = sum(views_list, [])  \n",
    "print(f'Среднее количество просмотров на уникального пользователя: {sum(sum_views_list) / len(views_list[0:])} ')      "
   ]
  },
  {
   "cell_type": "markdown",
   "metadata": {},
   "source": [
    "### Задание 6\n"
   ]
  },
  {
   "cell_type": "code",
   "execution_count": 789,
   "metadata": {},
   "outputs": [
    {
     "name": "stdout",
     "output_type": "stream",
     "text": [
      "Введите число 1 1 3 3 4 4\n",
      "134\n"
     ]
    }
   ],
   "source": [
    "words = input('Введите число ')\n",
    "#word_list = words.split()\n",
    "word_list = []\n",
    "\n",
    "for word in words.split():    \n",
    "    if word not in word_list:\n",
    "        word_list.append(word)\n",
    "print(''.join(word_list))"
   ]
  }
 ],
 "metadata": {
  "kernelspec": {
   "display_name": "Python 3",
   "language": "python",
   "name": "python3"
  },
  "language_info": {
   "codemirror_mode": {
    "name": "ipython",
    "version": 3
   },
   "file_extension": ".py",
   "mimetype": "text/x-python",
   "name": "python",
   "nbconvert_exporter": "python",
   "pygments_lexer": "ipython3",
   "version": "3.8.5"
  }
 },
 "nbformat": 4,
 "nbformat_minor": 4
}
