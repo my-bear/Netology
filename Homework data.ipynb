{
 "cells": [
  {
   "cell_type": "code",
   "execution_count": 60,
   "metadata": {},
   "outputs": [],
   "source": [
    "from datetime import datetime, timedelta\n",
    "from pprint import pprint"
   ]
  },
  {
   "cell_type": "markdown",
   "metadata": {},
   "source": [
    "### Задание 1"
   ]
  },
  {
   "cell_type": "code",
   "execution_count": 93,
   "metadata": {},
   "outputs": [
    {
     "data": {
      "text/plain": [
       "datetime.datetime(2002, 10, 1, 0, 0)"
      ]
     },
     "execution_count": 93,
     "metadata": {},
     "output_type": "execute_result"
    }
   ],
   "source": [
    "datetime.strptime('Wednesday, October 2, 2002', '%A, %B %w, %Y')"
   ]
  },
  {
   "cell_type": "code",
   "execution_count": 94,
   "metadata": {},
   "outputs": [
    {
     "data": {
      "text/plain": [
       "datetime.datetime(2013, 10, 11, 0, 0)"
      ]
     },
     "execution_count": 94,
     "metadata": {},
     "output_type": "execute_result"
    }
   ],
   "source": [
    "datetime.strptime('Friday, 11.10.13', '%A, %d.%m.%y')"
   ]
  },
  {
   "cell_type": "code",
   "execution_count": 95,
   "metadata": {},
   "outputs": [
    {
     "data": {
      "text/plain": [
       "datetime.datetime(1977, 8, 18, 0, 0)"
      ]
     },
     "execution_count": 95,
     "metadata": {},
     "output_type": "execute_result"
    }
   ],
   "source": [
    "datetime.strptime('Thursday, 18 August 1977', '%A, %d %B %Y')"
   ]
  },
  {
   "cell_type": "markdown",
   "metadata": {},
   "source": [
    "### Задание 2 "
   ]
  },
  {
   "cell_type": "code",
   "execution_count": 84,
   "metadata": {},
   "outputs": [],
   "source": [
    "stream = ['2018-04-02', '2018-02-29', '2018-19-02']"
   ]
  },
  {
   "cell_type": "code",
   "execution_count": 87,
   "metadata": {},
   "outputs": [
    {
     "name": "stdout",
     "output_type": "stream",
     "text": [
      "2018-04-02 True\n",
      "2018-02-29 False\n",
      "2018-19-02 False\n"
     ]
    }
   ],
   "source": [
    "def date_check():\n",
    "    for date in stream:\n",
    "        try:\n",
    "            datetime.strptime(date, '%Y-%m-%d')\n",
    "            print(date, date != True) \n",
    "        except ValueError:\n",
    "            print(date, date == False)\n",
    "            continue \n",
    "date_check()\n",
    "\n",
    "# Покажите как можно проще написать эту функцию (с моим True и False не сразу понятно, что она делает)"
   ]
  },
  {
   "cell_type": "markdown",
   "metadata": {},
   "source": [
    "### Задание 3"
   ]
  },
  {
   "cell_type": "code",
   "execution_count": 82,
   "metadata": {},
   "outputs": [],
   "source": [
    "start = '2018-02-26'\n",
    "end = '2018-03-3'\n",
    "\n",
    "def date_range():\n",
    "#     start = input('Введите начало даты: ')\n",
    "#     end = input('Введите конец даты: ')\n",
    "    res = []\n",
    "    \n",
    "    if start > end:\n",
    "        pass\n",
    "    try: \n",
    "        start_dt = datetime.strptime(start, '%Y-%m-%d')\n",
    "        end_dt = datetime.strptime(end, '%Y-%m-%d')\n",
    "\n",
    "        current_dt = start_dt\n",
    "\n",
    "        while current_dt <= end_dt:\n",
    "\n",
    "            current_dt += timedelta(days=1)\n",
    "\n",
    "            res.append(current_dt.strftime('%Y-%m-%d'))\n",
    "\n",
    "        pprint(res)\n",
    "        \n",
    "    except ValueError:\n",
    "        print('Введен неверный формат даты')"
   ]
  },
  {
   "cell_type": "code",
   "execution_count": 83,
   "metadata": {},
   "outputs": [
    {
     "name": "stdout",
     "output_type": "stream",
     "text": [
      "['2018-02-27',\n",
      " '2018-02-28',\n",
      " '2018-03-01',\n",
      " '2018-03-02',\n",
      " '2018-03-03',\n",
      " '2018-03-04']\n"
     ]
    }
   ],
   "source": [
    "date_range()"
   ]
  },
  {
   "cell_type": "code",
   "execution_count": null,
   "metadata": {},
   "outputs": [],
   "source": []
  }
 ],
 "metadata": {
  "kernelspec": {
   "display_name": "Python 3",
   "language": "python",
   "name": "python3"
  },
  "language_info": {
   "codemirror_mode": {
    "name": "ipython",
    "version": 3
   },
   "file_extension": ".py",
   "mimetype": "text/x-python",
   "name": "python",
   "nbconvert_exporter": "python",
   "pygments_lexer": "ipython3",
   "version": "3.8.5"
  }
 },
 "nbformat": 4,
 "nbformat_minor": 4
}
