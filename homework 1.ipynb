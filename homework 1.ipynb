{
 "cells": [
  {
   "cell_type": "markdown",
   "metadata": {},
   "source": [
    "Сравнение длин двух строк\n",
    "\n",
    "Примеры для фраз:\n",
    "Фраза 1 (Насколько проще было бы писать программы, если бы не заказчики)\n",
    "Фраза 2 (640Кб должно хватить для любых задач. Билл Гейтс)"
   ]
  },
  {
   "cell_type": "code",
   "execution_count": null,
   "metadata": {},
   "outputs": [],
   "source": [
    "x = str (input('Фраза 1 '))\n",
    "y = str (input('Фраза 2 '))\n",
    "         \n",
    "if len(x) > len(y):\n",
    "    print('Фраза 1 длиннее фразы 2')\n",
    "    \n",
    "elif len(x) < len(y):\n",
    "    print('Фраза 2 длиннее фразы 1')\n",
    "    \n",
    "else:\n",
    "    print('Фразы равной длинны')"
   ]
  },
  {
   "cell_type": "markdown",
   "metadata": {},
   "source": [
    "Определение високосного года\n"
   ]
  },
  {
   "cell_type": "code",
   "execution_count": null,
   "metadata": {},
   "outputs": [],
   "source": [
    "x = int (input('Введите год: '))\n",
    "if (x % 2) == 0 :\n",
    "    print('Високосный год')\n",
    "else:\n",
    "    print('Не високосный год')"
   ]
  },
  {
   "cell_type": "markdown",
   "metadata": {},
   "source": [
    "Знаки зодиака:\n"
   ]
  },
  {
   "cell_type": "code",
   "execution_count": null,
   "metadata": {},
   "outputs": [],
   "source": [
    "x = int (input('Введите день '))\n",
    "y = str (input('Введите месяц '))\n",
    "\n",
    "if (21 <= x <= 31 and y == \"Январь\") or (1 <= x <= 18 and y == \"Февраль\"):\n",
    "    print('Водолей')\n",
    "elif (19 <= x <= 29 and y == \"Февраль\") or (1 <= x <= 20 and y == \"Март\"):\n",
    "    print('Рыба')\n",
    "elif (21 <= x <= 31 and y == \"Март\") or (1 <= x <= 20 and y == \"Апрель\"):\n",
    "    print('Овен')\n",
    "elif (21 <= x <= 30 and y == \"Апрель\") or (1 <= x <= 21 and y == \"Май\"):\n",
    "    print('Телец')\n",
    "elif (22 <= x <= 31 and y == \"Мая\") or (1 <= x <= 21 and y == \"Июнь\"):\n",
    "    print('Близнецы')\n",
    "elif (22 <= x <= 30 and y == \"Июнь\") or (1 <= x <= 22 and y == \"Июль\"):\n",
    "    print('Рак')\n",
    "elif (23 <= x <= 30 and y == \"Июль\") or (1 <= x <= 23 and y == \"Август\"):\n",
    "    print('Лев')\n",
    "elif (24 <= x <= 31 and y == \"Август\") or (1 <= x <= 23 and y == \"Сентябрь\"):\n",
    "    print('Дева')\n",
    "elif (24 <= x <= 30 and y == \"Сентябрь\") or (1 <= x <= 23 and y == \"Октябрь\"):\n",
    "    print('Весы')\n",
    "elif (24 <= x <= 31 and y == \"Октябрь\") or (1 <= x <= 22 and y == \"Ноябрь\"):\n",
    "    print('Скорпион')\n",
    "elif (23 <= x <= 31 and y == \"Ноября\") or (1 <= x <= 21 and y == \"Декабрь\"):\n",
    "    print('Стрелец')\n",
    "elif (22 <= x <= 31 and y == \"Декабрь\") or (1 <= x <= 20 and y == \"Январь\"):\n",
    "    print('Козерог')\n",
    "else:\n",
    "    print('Ошибка')\n",
    "    "
   ]
  },
  {
   "cell_type": "markdown",
   "metadata": {},
   "source": [
    "Задание 4"
   ]
  },
  {
   "cell_type": "code",
   "execution_count": 169,
   "metadata": {},
   "outputs": [
    {
     "name": "stdout",
     "output_type": "stream",
     "text": [
      "Ширина: 12\n",
      "Длина: 12\n",
      "Высота: 12\n",
      "Коробка №1\n"
     ]
    }
   ],
   "source": [
    "width  = int (input('Ширина: '))\n",
    "length = int (input('Длина: '))\n",
    "height = int (input('Высота: '))\n",
    "   \n",
    "if not length >= 200:\n",
    "    if (width and length and height) <= 15:\n",
    "        print('Коробка №1')\n",
    "    elif not 15 < (width and length and height) <= 50:\n",
    "        print('Коробка №2')\n",
    "    else:\n",
    "        print('Коробка №3')\n",
    "else:\n",
    "    print('Упаковка для лыж')"
   ]
  },
  {
   "cell_type": "markdown",
   "metadata": {},
   "source": [
    "Задание 5"
   ]
  },
  {
   "cell_type": "code",
   "execution_count": 234,
   "metadata": {},
   "outputs": [
    {
     "name": "stdout",
     "output_type": "stream",
     "text": [
      "Номер вашего билета 123456\n",
      "Не счастливый билет\n"
     ]
    }
   ],
   "source": [
    "number = int (input('Номер вашего билета '))\n",
    "\n",
    "num_1 = number % 1000000 // 100000\n",
    "\n",
    "num_2 = number % 100000 // 10000\n",
    "    \n",
    "num_3 = number % 10000 // 1000\n",
    "\n",
    "num_4 = number % 1000 // 100\n",
    "\n",
    "num_5 = number % 100 // 10\n",
    "\n",
    "num_6 = number % 10 \n",
    "\n",
    "n_1 = num_1 + num_2 + num_3\n",
    "n_2 = num_4 + num_5 + num_6\n",
    "\n",
    "if n_1 == n_2:\n",
    "    print('Счастливый билет')\n",
    "else:\n",
    "    print('Не счастливый билет')\n"
   ]
  },
  {
   "cell_type": "markdown",
   "metadata": {},
   "source": [
    "Задание 6\n"
   ]
  },
  {
   "cell_type": "code",
   "execution_count": 278,
   "metadata": {},
   "outputs": [
    {
     "name": "stdout",
     "output_type": "stream",
     "text": [
      "Введите тип фигуры Прямоугольник\n",
      "Введите длину стороны А 3\n",
      "Введите длину стороны В 2\n",
      "Площадь прямоугольника =  6.0\n"
     ]
    }
   ],
   "source": [
    "i = str (input('Введите тип фигуры '))\n",
    "\n",
    "if i == \"Круг\":\n",
    "    r = int(input('Введите радиус круга '))\n",
    "    S = int((3.14 * (r** 2)) * 100) / 100\n",
    "    print('Площадь круга = ', S)\n",
    "    \n",
    "elif i == \"Треугольник\":\n",
    "    a = int(input('Введите длину стороны А '))\n",
    "    b = int(input('Введите длину стороны В '))\n",
    "    c = int(input('Введите длину стороны С '))\n",
    "    p = (a + b + c) / 2\n",
    "    S =  int(((p * ((p - a) * (p - b) * (p - c))) ** (1/2)) * 100) / 100\n",
    "    print('Площадь треугольника = ', S)\n",
    "    \n",
    "elif i == \"Прямоугольник\": \n",
    "    a = int(input('Введите длину стороны А '))\n",
    "    b = int(input('Введите длину стороны В '))\n",
    "    S = int(a * b * 100) / 100\n",
    "    print('Площадь прямоугольника = ', S)\n"
   ]
  }
 ],
 "metadata": {
  "kernelspec": {
   "display_name": "Python 3",
   "language": "python",
   "name": "python3"
  },
  "language_info": {
   "codemirror_mode": {
    "name": "ipython",
    "version": 3
   },
   "file_extension": ".py",
   "mimetype": "text/x-python",
   "name": "python",
   "nbconvert_exporter": "python",
   "pygments_lexer": "ipython3",
   "version": "3.8.5"
  }
 },
 "nbformat": 4,
 "nbformat_minor": 4
}
